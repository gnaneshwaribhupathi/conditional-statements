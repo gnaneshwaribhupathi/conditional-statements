{
 "cells": [
  {
   "cell_type": "markdown",
   "id": "569444d9",
   "metadata": {},
   "source": [
    "# conditional statements"
   ]
  },
  {
   "cell_type": "code",
   "execution_count": null,
   "id": "aef1c851",
   "metadata": {},
   "outputs": [],
   "source": [
    "x=10\n",
    "\n",
    "if x>3:\n",
    "    print(\"hi\")\n",
    "    print(\"bye\")"
   ]
  },
  {
   "cell_type": "code",
   "execution_count": 22,
   "id": "fa65880f",
   "metadata": {},
   "outputs": [
    {
     "name": "stdout",
     "output_type": "stream",
     "text": [
      "type your height is 55.2\n",
      " taller \n"
     ]
    }
   ],
   "source": [
    "x=float(input(\"type your height is \"))\n",
    "if x>50:\n",
    "    print(\" taller \")"
   ]
  },
  {
   "cell_type": "code",
   "execution_count": 20,
   "id": "8cd50d83",
   "metadata": {},
   "outputs": [
    {
     "name": "stdout",
     "output_type": "stream",
     "text": [
      "enter your string asdfghj\n",
      "your string have all alphabets \n"
     ]
    }
   ],
   "source": [
    "y=input(\"enter your string \")\n",
    "if y.isalpha():\n",
    "    print(\"your string have all alphabets \")\n",
    "    "
   ]
  },
  {
   "cell_type": "code",
   "execution_count": 23,
   "id": "3c2876df",
   "metadata": {},
   "outputs": [
    {
     "name": "stdout",
     "output_type": "stream",
     "text": [
      "greater\n"
     ]
    }
   ],
   "source": [
    "x=10\n",
    "\n",
    "if x<11:\n",
    "    print(\"greater\")\n",
    "else:\n",
    "    print(\"lesser\")"
   ]
  },
  {
   "cell_type": "code",
   "execution_count": 24,
   "id": "eba2ba6c",
   "metadata": {},
   "outputs": [
    {
     "name": "stdout",
     "output_type": "stream",
     "text": [
      "lesser\n"
     ]
    }
   ],
   "source": [
    "x=10\n",
    "\n",
    "if x<1:\n",
    "    print(\"greater\")\n",
    "else:\n",
    "    print(\"lesser\")"
   ]
  },
  {
   "cell_type": "code",
   "execution_count": 3,
   "id": "39591e11",
   "metadata": {},
   "outputs": [
    {
     "name": "stdout",
     "output_type": "stream",
     "text": [
      "greater\n"
     ]
    }
   ],
   "source": [
    "x=10\n",
    "\n",
    "if x>=10 and x%5==0 and x%2==0:\n",
    "    print(\"greater\")\n",
    "else:\n",
    "    print(\"lesser\")\n",
    "     "
   ]
  },
  {
   "cell_type": "code",
   "execution_count": 4,
   "id": "2871682c",
   "metadata": {},
   "outputs": [
    {
     "name": "stdout",
     "output_type": "stream",
     "text": [
      "type any number23\n",
      "your value is not satisfy the condition\n"
     ]
    }
   ],
   "source": [
    "x=int(input(\"type any number\"))\n",
    "\n",
    "if x>=10 and x%5==0 and x%2==0:\n",
    "    print(\"value greater than 10 and divisible by both 5 and 2\")\n",
    "else:\n",
    "    print(\"your value is not satisfy the condition\")"
   ]
  },
  {
   "cell_type": "code",
   "execution_count": 7,
   "id": "019d6abc",
   "metadata": {},
   "outputs": [
    {
     "name": "stdout",
     "output_type": "stream",
     "text": [
      "your value is false\n"
     ]
    }
   ],
   "source": [
    "x=25\n",
    "\n",
    "if x<23 or x%5==2 or x%2==0:\n",
    "    print(\"your value is true\")\n",
    "else:\n",
    "    print(\"your value is false\")\n",
    "\n",
    "  "
   ]
  },
  {
   "cell_type": "code",
   "execution_count": 9,
   "id": "238e4def",
   "metadata": {},
   "outputs": [
    {
     "name": "stdout",
     "output_type": "stream",
     "text": [
      "my weight is 40\n",
      "your are under weight\n"
     ]
    }
   ],
   "source": [
    "x=float(input(\"my weight is \"))\n",
    "\n",
    "if (x<50 and x%2==0 and x%5==0):\n",
    "    print(\"your are under weight\")\n",
    "else:\n",
    "    print(\"your are over weight\")"
   ]
  },
  {
   "cell_type": "code",
   "execution_count": 1,
   "id": "642f2ad7",
   "metadata": {},
   "outputs": [
    {
     "name": "stdout",
     "output_type": "stream",
     "text": [
      "type your number20\n",
      "value is divided by 5\n"
     ]
    }
   ],
   "source": [
    "x=int(input(\"type your number\"))\n",
    "\n",
    "if x<=10:\n",
    "    print(\"value is greater than equal to 10\")\n",
    "elif x%5==0:\n",
    "    print(\"value is divided by 5\")\n",
    "elif x%2==0:\n",
    "    print(\"value is divided by 2\")\n",
    "else:\n",
    "    print(\"not satisfy any condition\")"
   ]
  },
  {
   "cell_type": "code",
   "execution_count": 2,
   "id": "d9b1e72e",
   "metadata": {},
   "outputs": [
    {
     "name": "stdout",
     "output_type": "stream",
     "text": [
      "type your total marks :60\n",
      "type your science marks :20\n",
      "you got placed in c2\n"
     ]
    }
   ],
   "source": [
    "t_m=int(input(\"type your total marks :\"))\n",
    "s_m=int(input(\"type your science marks :\"))\n",
    "\n",
    "if t_m>80 and s_m>90:\n",
    "    print(\"you got place in c1\")\n",
    "elif t_m>50:\n",
    "    print(\"you got placed in c2\")\n",
    "elif s_m>30:\n",
    "    print(\"you got placed in c3\")\n",
    "else:\n",
    "    print(\"you got rejected\")\n",
    "    "
   ]
  },
  {
   "cell_type": "code",
   "execution_count": 3,
   "id": "25b1adc9",
   "metadata": {},
   "outputs": [
    {
     "name": "stdout",
     "output_type": "stream",
     "text": [
      "type your total marks :85\n",
      "type your science marks :92\n",
      "you got place in c1\n"
     ]
    }
   ],
   "source": [
    "t_m=int(input(\"type your total marks :\"))\n",
    "s_m=int(input(\"type your science marks :\"))\n",
    "\n",
    "if t_m>80 and s_m>90:\n",
    "    print(\"you got place in c1\")\n",
    "elif t_m>50:\n",
    "    print(\"you got placed in c2\")\n",
    "elif s_m>30:\n",
    "    print(\"you got placed in c3\")\n",
    "else:\n",
    "    print(\"you got rejected\")"
   ]
  },
  {
   "cell_type": "code",
   "execution_count": 4,
   "id": "ca2bed82",
   "metadata": {},
   "outputs": [
    {
     "name": "stdout",
     "output_type": "stream",
     "text": [
      "type your total marks :40\n",
      "type your science marks :35\n",
      "you got placed in c3\n"
     ]
    }
   ],
   "source": [
    "t_m=int(input(\"type your total marks :\"))\n",
    "s_m=int(input(\"type your science marks :\"))\n",
    "\n",
    "if t_m>80 and s_m>90:\n",
    "    print(\"you got place in c1\")\n",
    "elif t_m>50:\n",
    "    print(\"you got placed in c2\")\n",
    "elif s_m>30:\n",
    "    print(\"you got placed in c3\")\n",
    "else:\n",
    "    print(\"you got rejected\")"
   ]
  },
  {
   "cell_type": "code",
   "execution_count": 5,
   "id": "bf29728d",
   "metadata": {},
   "outputs": [
    {
     "name": "stdout",
     "output_type": "stream",
     "text": [
      "type your total marks :20\n",
      "type your science marks :20\n",
      "you got rejected\n"
     ]
    }
   ],
   "source": [
    "t_m=int(input(\"type your total marks :\"))\n",
    "s_m=int(input(\"type your science marks :\"))\n",
    "\n",
    "if t_m>80 and s_m>90:\n",
    "    print(\"you got place in c1\")\n",
    "elif t_m>50:\n",
    "    print(\"you got placed in c2\")\n",
    "elif s_m>30:\n",
    "    print(\"you got placed in c3\")\n",
    "else:\n",
    "    print(\"you got rejected\")"
   ]
  },
  {
   "cell_type": "code",
   "execution_count": 7,
   "id": "66722d1b",
   "metadata": {},
   "outputs": [
    {
     "name": "stdout",
     "output_type": "stream",
     "text": [
      "value divisible by 3:21\n",
      "divisible by 3\n"
     ]
    }
   ],
   "source": [
    "x=int(input(\"value divisible by 3:\"))\n",
    "\n",
    "if x%3==0:\n",
    "    print(\"divisible by 3\")\n",
    "else:\n",
    "    print(\"not divisible\")\n",
    "               \n",
    "               \n",
    "               \n"
   ]
  },
  {
   "cell_type": "code",
   "execution_count": 1,
   "id": "9a11d1d1",
   "metadata": {},
   "outputs": [
    {
     "name": "stdout",
     "output_type": "stream",
     "text": [
      "Enter your value25\n",
      "Hello\n"
     ]
    }
   ],
   "source": [
    "num=int(input(\"Enter your value\"))\n",
    "if num%5==0:\n",
    "   print(\"Hello\")\n",
    "else:\n",
    "   print(\"Bye\")\n"
   ]
  },
  {
   "cell_type": "code",
   "execution_count": 7,
   "id": "8008d116",
   "metadata": {},
   "outputs": [
    {
     "name": "stdout",
     "output_type": "stream",
     "text": [
      "age of the voter :19\n",
      "eligible to vote \n"
     ]
    }
   ],
   "source": [
    "a_v=int(input(\"age of the voter :\"))\n",
    "\n",
    "if a_v>=18:\n",
    "    print(\"eligible to vote \")\n",
    "else:\n",
    "    print(\"not eligible to vote \")"
   ]
  },
  {
   "cell_type": "code",
   "execution_count": 8,
   "id": "48263edc",
   "metadata": {},
   "outputs": [
    {
     "name": "stdout",
     "output_type": "stream",
     "text": [
      "enter the value :49\n",
      "divisible by 7 \n"
     ]
    }
   ],
   "source": [
    "d_s=int(input(\"enter the value :\"))\n",
    "\n",
    "if d_s%7==0:\n",
    "    print(\"divisible by 7 \")\n",
    "else:\n",
    "    print(\"not divisible by 7 \")"
   ]
  },
  {
   "cell_type": "code",
   "execution_count": 5,
   "id": "e46db915",
   "metadata": {},
   "outputs": [
    {
     "name": "stdout",
     "output_type": "stream",
     "text": [
      "enter the value :24\n",
      "it is even number\n"
     ]
    }
   ],
   "source": [
    "e_o=int(input(\"enter the value :\"))\n",
    "\n",
    "if e_o%2==0:\n",
    "    print(\"it is even number\")\n",
    "else:\n",
    "    print(\"it is odd number \")"
   ]
  },
  {
   "cell_type": "code",
   "execution_count": 1,
   "id": "24753d0a",
   "metadata": {},
   "outputs": [
    {
     "name": "stdout",
     "output_type": "stream",
     "text": [
      "the electricity unit is : 125\n",
      "the amount of the bill is 125\n"
     ]
    }
   ],
   "source": [
    "x=int(input(\"the electricity unit is : \"))\n",
    "\n",
    "if x<=100:\n",
    "    int(input(\"the amount of the bill is \"))\n",
    "if x>100 and x<=200:\n",
    "    x=(x-100)*5\n",
    "    int(input(\"the amount of the bill is \"))\n",
    "if x>200:\n",
    "    x=500+(x-200)*10\n",
    "    int(input(\"the amount of the bill is \"))"
   ]
  },
  {
   "cell_type": "code",
   "execution_count": 24,
   "id": "aef1b6a9",
   "metadata": {},
   "outputs": [
    {
     "name": "stdout",
     "output_type": "stream",
     "text": [
      "enter the value  100\n",
      "last digit number is , num%10\n"
     ]
    }
   ],
   "source": [
    "y=int(input(\"enter the value  \"))\n",
    "if x%10==0: \n",
    "    print(\"last digit number is , num%10\")"
   ]
  },
  {
   "cell_type": "code",
   "execution_count": 2,
   "id": "6c635062",
   "metadata": {},
   "outputs": [
    {
     "name": "stdout",
     "output_type": "stream",
     "text": [
      "total marks is 99\n",
      "got 'A' grade \n"
     ]
    }
   ],
   "source": [
    "t_m=int(input(\"total marks is \"))\n",
    "\n",
    "if t_m>90:\n",
    "    print(\"got 'A' grade \")\n",
    "elif t_m>80 and t_m<=90:\n",
    "    print(\"got 'B' grade \")\n",
    "elif t_m>=60 and t_m<=80:\n",
    "    print(\"got 'C' grade \")\n",
    "elif t_m<60:\n",
    "    print(\"got 'D'grade \")"
   ]
  },
  {
   "cell_type": "code",
   "execution_count": 3,
   "id": "cb72acad",
   "metadata": {},
   "outputs": [
    {
     "name": "stdout",
     "output_type": "stream",
     "text": [
      "total marks is 82\n",
      "got 'B' grade \n"
     ]
    }
   ],
   "source": [
    "t_m=int(input(\"total marks is \"))\n",
    "\n",
    "if t_m>90:\n",
    "    print(\"got 'A' grade \")\n",
    "elif t_m>80 and t_m<=90:\n",
    "    print(\"got 'B' grade \")\n",
    "elif t_m>=60 and t_m<=80:\n",
    "    print(\"got 'C' grade \")\n",
    "elif t_m<60:\n",
    "    print(\"got 'D'grade \")"
   ]
  },
  {
   "cell_type": "code",
   "execution_count": 4,
   "id": "dbff0b79",
   "metadata": {},
   "outputs": [
    {
     "name": "stdout",
     "output_type": "stream",
     "text": [
      "total marks is 70\n",
      "got 'C' grade \n"
     ]
    }
   ],
   "source": [
    "t_m=int(input(\"total marks is \"))\n",
    "\n",
    "if t_m>90:\n",
    "    print(\"got 'A' grade \")\n",
    "elif t_m>80 and t_m<=90:\n",
    "    print(\"got 'B' grade \")\n",
    "elif t_m>=60 and t_m<=80:\n",
    "    print(\"got 'C' grade \")\n",
    "elif t_m<60:\n",
    "    print(\"got 'D'grade \")"
   ]
  },
  {
   "cell_type": "code",
   "execution_count": 5,
   "id": "d21d4578",
   "metadata": {},
   "outputs": [
    {
     "name": "stdout",
     "output_type": "stream",
     "text": [
      "total marks is 50\n",
      "got 'D'grade \n"
     ]
    }
   ],
   "source": [
    "t_m=int(input(\"total marks is \"))\n",
    "\n",
    "if t_m>90:\n",
    "    print(\"got 'A' grade \")\n",
    "elif t_m>80 and t_m<=90:\n",
    "    print(\"got 'B' grade \")\n",
    "elif t_m>=60 and t_m<=80:\n",
    "    print(\"got 'C' grade \")\n",
    "elif t_m<60:\n",
    "    print(\"got 'D'grade \")"
   ]
  },
  {
   "cell_type": "code",
   "execution_count": null,
   "id": "e52b2175",
   "metadata": {},
   "outputs": [],
   "source": [
    "Write a program to accept the cost price of a bike and display the road tax to be paid according to the following criteria :\n",
    "    \n",
    "        Cost price (in Rs)                                       Tax\n",
    "        > 100000                                                  15 %\n",
    "        > 50000 and <= 100000                                     10%\n",
    "        <= 50000             \n",
    "                                                                 5%"
   ]
  },
  {
   "cell_type": "code",
   "execution_count": 6,
   "id": "f0b297cf",
   "metadata": {},
   "outputs": [
    {
     "ename": "SyntaxError",
     "evalue": "invalid syntax (3997077512.py, line 4)",
     "output_type": "error",
     "traceback": [
      "\u001b[1;36m  Input \u001b[1;32mIn [6]\u001b[1;36m\u001b[0m\n\u001b[1;33m    print(x+0.15x)\u001b[0m\n\u001b[1;37m                ^\u001b[0m\n\u001b[1;31mSyntaxError\u001b[0m\u001b[1;31m:\u001b[0m invalid syntax\n"
     ]
    }
   ],
   "source": [
    "x=int(input(\"cost price of bike \"))\n",
    "\n",
    "if x>100000:\n",
    "    print(x+0.15x)\n",
    "    print(\"the road tax to be paid is \")\n",
    "elif x>50000 and <=100000:\n",
    "    print(x+0.10x)\n",
    "    print(\"the road tax to be paid is \")\n",
    "elif x<=50000:\n",
    "    print(x+0.05%)\n",
    "    print(\"the road tax to be paid is \")"
   ]
  },
  {
   "cell_type": "markdown",
   "id": "70bbb345",
   "metadata": {},
   "source": [
    "# WHILE LOOP"
   ]
  },
  {
   "cell_type": "code",
   "execution_count": 10,
   "id": "3cc7514c",
   "metadata": {},
   "outputs": [
    {
     "name": "stdout",
     "output_type": "stream",
     "text": [
      "hi\n",
      "hi\n",
      "hi\n"
     ]
    }
   ],
   "source": [
    "x=0\n",
    "while x<3:\n",
    "    print(\"hi\")\n",
    "    x=x+1"
   ]
  },
  {
   "cell_type": "code",
   "execution_count": 11,
   "id": "02637aed",
   "metadata": {},
   "outputs": [
    {
     "name": "stdout",
     "output_type": "stream",
     "text": [
      "0\n",
      "1\n",
      "2\n"
     ]
    }
   ],
   "source": [
    "x=0\n",
    "while x<3:\n",
    "    print(x)\n",
    "    x=x+1"
   ]
  },
  {
   "cell_type": "code",
   "execution_count": 12,
   "id": "605591b1",
   "metadata": {},
   "outputs": [
    {
     "name": "stdout",
     "output_type": "stream",
     "text": [
      "0\n",
      "1\n",
      "2\n",
      "3\n",
      "4\n",
      "5\n",
      "6\n",
      "7\n",
      "8\n",
      "9\n",
      "10\n"
     ]
    }
   ],
   "source": [
    "x=0\n",
    "while x<=10:\n",
    "    print(x)\n",
    "    x=x+1"
   ]
  },
  {
   "cell_type": "code",
   "execution_count": 13,
   "id": "60d3c22c",
   "metadata": {},
   "outputs": [
    {
     "name": "stdout",
     "output_type": "stream",
     "text": [
      "10\n",
      "9\n",
      "8\n",
      "7\n",
      "6\n",
      "5\n",
      "4\n",
      "3\n",
      "2\n",
      "1\n"
     ]
    }
   ],
   "source": [
    "x=10\n",
    "while x>0:\n",
    "    print(x)\n",
    "    x=x-1"
   ]
  },
  {
   "cell_type": "code",
   "execution_count": 14,
   "id": "90825247",
   "metadata": {},
   "outputs": [
    {
     "name": "stdout",
     "output_type": "stream",
     "text": [
      "9\n",
      "6\n",
      "3\n"
     ]
    }
   ],
   "source": [
    "x=9\n",
    "while x>0:\n",
    "    print(x)\n",
    "    x=x-3"
   ]
  },
  {
   "cell_type": "code",
   "execution_count": 15,
   "id": "96397ccd",
   "metadata": {},
   "outputs": [
    {
     "name": "stdout",
     "output_type": "stream",
     "text": [
      "a\n",
      "b\n",
      "c\n",
      "d\n",
      "e\n"
     ]
    }
   ],
   "source": [
    "x=0\n",
    "y=\"abcde\"\n",
    "while x<5:\n",
    "    print(y[x])\n",
    "    x=x+1    "
   ]
  },
  {
   "cell_type": "code",
   "execution_count": null,
   "id": "c5ab6f97",
   "metadata": {},
   "outputs": [],
   "source": [
    "x=0\n",
    "y=input(\"enter the alphabets \")\n",
    "l=len(y)\n",
    "while x<l:\n",
    "    print(y[x])\n",
    "    x=x+1"
   ]
  },
  {
   "cell_type": "code",
   "execution_count": null,
   "id": "357d1a70",
   "metadata": {},
   "outputs": [],
   "source": [
    "#create a list containing seven elements loop through each element"
   ]
  },
  {
   "cell_type": "code",
   "execution_count": null,
   "id": "84a68a0d",
   "metadata": {},
   "outputs": [],
   "source": [
    "x=[1,2,3,4,5,6,\"a\"]\n",
    "i=0\n",
    "while i<len(x):\n",
    "    print(x[i])\n",
    "    i=i+1"
   ]
  },
  {
   "cell_type": "code",
   "execution_count": null,
   "id": "ffa97a6b",
   "metadata": {},
   "outputs": [],
   "source": [
    "y=[1,2,3,4,5,6,7,8,9,10,11,12,13,14,15,16,17,18,19,20]\n",
    "x=0\n",
    "while x<len(y):\n",
    "    if y[x]%2==0:\n",
    "        print(y[x])\n",
    "    x=x+1"
   ]
  },
  {
   "cell_type": "code",
   "execution_count": null,
   "id": "29d225d0",
   "metadata": {},
   "outputs": [],
   "source": [
    "y=[1,2,3,4,5,6,7,8,9,10,11,12,13,14,15,16,17,18,19,20]\n",
    "x=0\n",
    "while x<len(y):\n",
    "    if y[x]%2!=0:\n",
    "        print(y[x])\n",
    "    x=x+1"
   ]
  },
  {
   "cell_type": "code",
   "execution_count": null,
   "id": "658607af",
   "metadata": {},
   "outputs": [],
   "source": [
    "#create a list of values and go through each element and we print square of each value"
   ]
  },
  {
   "cell_type": "code",
   "execution_count": null,
   "id": "d043856e",
   "metadata": {},
   "outputs": [],
   "source": [
    "x=[1,2,3,4,5,6,7,8,9]\n",
    "y=0\n",
    "while y<len(x):\n",
    "    print(x[y]**2)\n",
    "    y=y+1\n",
    "    \n",
    "        \n",
    "      "
   ]
  },
  {
   "cell_type": "code",
   "execution_count": 4,
   "id": "ea43b58d",
   "metadata": {},
   "outputs": [
    {
     "name": "stdout",
     "output_type": "stream",
     "text": [
      "a\n",
      "c\n",
      "e\n",
      "g\n",
      "i\n"
     ]
    }
   ],
   "source": [
    "y=\"abcdefghi\"\n",
    "x=0\n",
    "while x<len(y):\n",
    "    if x%2==0:\n",
    "        print(y[x])\n",
    "    x=x+1    \n",
    "    \n",
    "    "
   ]
  },
  {
   "cell_type": "code",
   "execution_count": 13,
   "id": "257b772a",
   "metadata": {},
   "outputs": [
    {
     "name": "stdout",
     "output_type": "stream",
     "text": [
      "b\n",
      "d\n",
      "f\n",
      "h\n"
     ]
    }
   ],
   "source": [
    "y=\"abcdefghi\"\n",
    "x=0\n",
    "while x<len(y):\n",
    "    if x%2!=0:\n",
    "        print(y[x])\n",
    "    x=x+1    "
   ]
  },
  {
   "cell_type": "markdown",
   "id": "2a86f701",
   "metadata": {},
   "source": [
    "# BREAK KEY WORD STATEMENT:"
   ]
  },
  {
   "cell_type": "code",
   "execution_count": 3,
   "id": "8d23c384",
   "metadata": {},
   "outputs": [
    {
     "name": "stdout",
     "output_type": "stream",
     "text": [
      "0\n",
      "1\n"
     ]
    }
   ],
   "source": [
    "x=0\n",
    "while x<3:\n",
    "    print(x)\n",
    "    if x==1:\n",
    "        break\n",
    "    x=x+1    "
   ]
  },
  {
   "cell_type": "code",
   "execution_count": 7,
   "id": "27205637",
   "metadata": {},
   "outputs": [
    {
     "name": "stdout",
     "output_type": "stream",
     "text": [
      "0\n",
      "1\n",
      "2\n",
      "3\n",
      "4\n",
      "5\n"
     ]
    }
   ],
   "source": [
    "x=0\n",
    "while x<10:\n",
    "    print(x)\n",
    "    if x==5:\n",
    "        break\n",
    "    x=x+1    "
   ]
  },
  {
   "cell_type": "code",
   "execution_count": 8,
   "id": "ee35e3c5",
   "metadata": {},
   "outputs": [
    {
     "name": "stdout",
     "output_type": "stream",
     "text": [
      "0\n",
      "1\n",
      "2\n",
      "3\n",
      "4\n",
      "5\n",
      "6\n",
      "7\n",
      "8\n",
      "9\n"
     ]
    }
   ],
   "source": [
    "x=0\n",
    "while x<10:\n",
    "    print(x)\n",
    "    if x==9:\n",
    "        break\n",
    "    x=x+1    "
   ]
  },
  {
   "cell_type": "code",
   "execution_count": 9,
   "id": "a60b3a18",
   "metadata": {},
   "outputs": [
    {
     "name": "stdout",
     "output_type": "stream",
     "text": [
      "hi\n",
      "bye\n",
      "0\n",
      "hi\n",
      "bye\n",
      "1\n",
      "hi\n",
      "bye\n",
      "2\n"
     ]
    }
   ],
   "source": [
    "x=0\n",
    "while x<3:\n",
    "    print(\"hi\")\n",
    "    print(\"bye\")\n",
    "    print(x)\n",
    "    x=x+1"
   ]
  },
  {
   "cell_type": "code",
   "execution_count": 12,
   "id": "02075cdd",
   "metadata": {},
   "outputs": [
    {
     "name": "stdout",
     "output_type": "stream",
     "text": [
      "1\n",
      "2\n",
      "4\n"
     ]
    }
   ],
   "source": [
    "x=0\n",
    "while x<4:\n",
    "    x=x+1\n",
    "    if x==3:\n",
    "        continue   \n",
    "    print(x)\n"
   ]
  },
  {
   "cell_type": "code",
   "execution_count": 1,
   "id": "86e64d38",
   "metadata": {},
   "outputs": [
    {
     "name": "stdout",
     "output_type": "stream",
     "text": [
      "1\n",
      "2\n",
      "3\n",
      "5\n"
     ]
    }
   ],
   "source": [
    "x=0\n",
    "while x<5:\n",
    "    x=x+1\n",
    "    if x==4:\n",
    "        continue\n",
    "    print(x)    "
   ]
  },
  {
   "cell_type": "code",
   "execution_count": null,
   "id": "601d7158",
   "metadata": {},
   "outputs": [],
   "source": []
  }
 ],
 "metadata": {
  "kernelspec": {
   "display_name": "Python 3 (ipykernel)",
   "language": "python",
   "name": "python3"
  },
  "language_info": {
   "codemirror_mode": {
    "name": "ipython",
    "version": 3
   },
   "file_extension": ".py",
   "mimetype": "text/x-python",
   "name": "python",
   "nbconvert_exporter": "python",
   "pygments_lexer": "ipython3",
   "version": "3.9.12"
  }
 },
 "nbformat": 4,
 "nbformat_minor": 5
}
